{
 "cells": [
  {
   "cell_type": "markdown",
   "metadata": {},
   "source": [
    "# NASS Statistics Data Acquisition\n",
    "\n",
    "There is an API to access the data [here](https://quickstats.nass.usda.gov). The graphical user interface at that link can be used to explore what kinds of data are available through the API. The API can be install be installed by opening up a terminal and typing: `pip install nass`. "
   ]
  },
  {
   "cell_type": "code",
   "execution_count": 8,
   "metadata": {},
   "outputs": [],
   "source": [
    "import nass\n",
    "import pandas as pd\n",
    "import datetime\n",
    "import numpy as np\n",
    "import shutil\n",
    "import matplotlib as mpl\n",
    "import matplotlib.pyplot as plt\n",
    "from mpl_toolkits.basemap import Basemap\n",
    "from simpledbf import Dbf5\n",
    "import seaborn as sns\n",
    "from matplotlib.patches import Polygon\n",
    "from matplotlib.colors import ListedColormap\n",
    "from matplotlib.collections import PatchCollection\n",
    "%matplotlib inline"
   ]
  },
  {
   "cell_type": "markdown",
   "metadata": {},
   "source": [
    "# Credentials "
   ]
  },
  {
   "cell_type": "code",
   "execution_count": 9,
   "metadata": {
    "collapsed": true
   },
   "outputs": [],
   "source": [
    "api = nass.NassApi('2B11C3F2-2AB8-3546-981D-C438F0A1AA2E')"
   ]
  },
  {
   "cell_type": "markdown",
   "metadata": {},
   "source": [
    "# Functions"
   ]
  },
  {
   "cell_type": "code",
   "execution_count": 10,
   "metadata": {
    "collapsed": true
   },
   "outputs": [],
   "source": [
    "def get_crop_progress(state,year,week, stage, crop = 'CORN', series = False):\n",
    "    '''\n",
    "    state   A two-letter state abbreviation, eg: IL for Illinois\n",
    "    \n",
    "    year    YYYY, eg: 2017\n",
    "    \n",
    "    stage   Pick from the following for CORN:\n",
    "            - PCT PLANTED\n",
    "            - PCT EMERGED\n",
    "            - PCT SILKING\n",
    "            - PCT DENTED\n",
    "            - PCT DOUGH\n",
    "            - PCT MATURE\n",
    "            - PCT HARVESTED\n",
    "            \n",
    "            Pick from the following for SOYBEANS:\n",
    "            - PCT SEEDBED PREPARED\n",
    "            - PCT PLANTED\n",
    "            - PCT BLOOMING\n",
    "            - PCT COLORING\n",
    "            - PCT FULLY PODDED\n",
    "            - PCT DROPPING LEAVES\n",
    "            - PCT MATURE\n",
    "            - PCT HARVESTED\n",
    "        \n",
    "    week   week number. Example: 47\n",
    "    \n",
    "    crop   CORN or SOYBEANS\n",
    "    \n",
    "    The output will be percentage completed of the selected stage at the year-week that is queried.\n",
    "\n",
    "    '''\n",
    "    \n",
    "    q = api.query()\n",
    "    q.filter('commodity_desc', crop).filter('year', year).\\\n",
    "    filter('state_alpha', state).filter('agg_level_desc', 'STATE').filter('source_desc', 'SURVEY').\\\n",
    "    filter('statisticcat_desc', 'PROGRESS').filter('unit_desc', stage)\n",
    "    \n",
    "    current_prog = q.execute()\n",
    "    current_df = pd.DataFrame.from_records(current_prog)\n",
    "    \n",
    "    if series == False:\n",
    "        # only select the percent progress on the most current record (current progress for this stage)\n",
    "        return float(current_df['Value'][current_df['begin_code'] == str(week)].values[0])\n",
    "    \n",
    "    else:\n",
    "        return current_df[['begin_code','Value']].sort_values(by=['begin_code']).reset_index()\n",
    "    \n",
    "\n",
    "def get_crop_progress_5yr_comp(state, year, week, stage, crop):\n",
    "    '''\n",
    "    state   A two-letter state abbreviation, eg: IL for Illinois\n",
    "    \n",
    "    year    YYYY, eg: 2017\n",
    "    \n",
    "    stage   Pick from the following for CORN:\n",
    "            - PCT PLANTED\n",
    "            - PCT EMERGED\n",
    "            - PCT SILKING\n",
    "            - PCT DENTED\n",
    "            - PCT DOUGH\n",
    "            - PCT MATURE\n",
    "            - PCT HARVESTED\n",
    "            \n",
    "            Pick from the following for SOYBEANS:\n",
    "            - PCT SEEDBED PREPARED\n",
    "            - PCT PLANTED\n",
    "            - PCT BLOOMING\n",
    "            - PCT COLORING\n",
    "            - PCT FULLY PODDED\n",
    "            - PCT DROPPING LEAVES\n",
    "            - PCT MATURE\n",
    "            - PCT HARVESTED  \n",
    "            \n",
    "    week   week number. Example: 47\n",
    "    \n",
    "    crop   CORN or SOYBEANS\n",
    "    \n",
    "    The output will be percentage completed of the selected stage at the year-week that is queried,\n",
    "    as well as the difference in weeks of this level of progress from the 5 year average.\n",
    "    \n",
    "    The difference in weeks (delta_wks) is POSITIVE if the query week is LATE\n",
    "    The difference in weeks (delta_wks) is NEGATIVE if the query week is EARLY\n",
    "    '''\n",
    "    \n",
    "    curpcprog = get_crop_progress(state,year,week, stage, crop = crop, series = False)\n",
    "    \n",
    "    prevyr = year - 1 # Note: use the previous year to get the 5 year normal so that we can look at \n",
    "                      # week numbers ahead of the current week number\n",
    "    \n",
    "    q = api.query()\n",
    "    q.filter('commodity_desc', crop).filter('year', prevyr).\\\n",
    "    filter('state_alpha', state).filter('agg_level_desc', 'STATE').\\\n",
    "    filter('source_desc', 'SURVEY').filter('statisticcat_desc', 'PROGRESS, 5 YEAR AVG').\\\n",
    "    filter('unit_desc', stage)\n",
    "    \n",
    "    fiveyr_prog = q.execute()\n",
    "    fiveyr_df = pd.DataFrame.from_records(fiveyr_prog)\n",
    "    \n",
    "    #  DIFFERENCE IN PERCENT AT STAGE PROGRESS FROM 5-YR NORM AT SAME WEEK\n",
    "    # ====================================================================\n",
    "    \n",
    "    fiveyrpcprog = float(fiveyr_df['Value'][fiveyr_df['begin_code'] == str(week)])\n",
    "    \n",
    "    # the diff in progress in the queried week compared to prog in same week\n",
    "    #  in 5 yr average\n",
    "    \n",
    "    diff_pc = curpcprog - fiveyrpcprog\n",
    "    \n",
    "     #  DIFFERENCE IN PROGRESS TIMING (WEEKS) from 5-YR NORMAL\n",
    "    # ====================================================================\n",
    "    \n",
    "    fiveyr_wk = int(np.min(fiveyr_df.loc[pd.to_numeric(fiveyr_df['Value']) >= curpcprog, 'begin_code']))\n",
    "    \n",
    "    # SCALE the week (so we can get fractional values)\n",
    "    fiveyr_wk1 = int(fiveyr_wk - 1)\n",
    "    \n",
    "    hipct = float(fiveyr_df.loc[fiveyr_df['begin_code'].astype(int) == int(fiveyr_wk), 'Value'])\n",
    "    \n",
    "    if hipct == 0:\n",
    "        scfiveyr_wk = fiveyr_wk\n",
    "    else:\n",
    "        lowpct = float(fiveyr_df.loc[fiveyr_df['begin_code'].astype(int) == int(fiveyr_wk1), 'Value'])\n",
    "        scfiveyr_wk = float(fiveyr_wk1) + float((curpcprog - lowpct)/ (hipct - lowpct))\n",
    "        \n",
    "    #the difference of the queried week to the 5 yr average to the same level of progress\n",
    "    diff_wks = float(week) - scfiveyr_wk\n",
    "    \n",
    "    outdata = {\n",
    "        'state': state,\n",
    "        'year': year,\n",
    "        'crop':crop,\n",
    "        'stage':stage,\n",
    "        'progress': curpcprog,\n",
    "        'fiveyr_prog': fiveyrpcprog,\n",
    "        'prog_diff_pc': diff_pc,\n",
    "        'query_wk': week,\n",
    "        'fiveyr_wk': scfiveyr_wk,\n",
    "        'delta_wks':diff_wks\n",
    "    }\n",
    "    \n",
    "    return outdata"
   ]
  },
  {
   "cell_type": "code",
   "execution_count": 11,
   "metadata": {},
   "outputs": [
    {
     "data": {
      "text/plain": [
       "84.0"
      ]
     },
     "execution_count": 11,
     "metadata": {},
     "output_type": "execute_result"
    }
   ],
   "source": [
    "get_crop_progress('IL', year = 2018, week = 20, stage = 'PCT EMERGED', crop = 'CORN')"
   ]
  },
  {
   "cell_type": "code",
   "execution_count": 12,
   "metadata": {},
   "outputs": [
    {
     "data": {
      "text/plain": [
       "{'crop': 'CORN',\n",
       " 'delta_wks': -0.533333333333335,\n",
       " 'fiveyr_prog': 12.0,\n",
       " 'fiveyr_wk': 17.533333333333335,\n",
       " 'prog_diff_pc': 8.0,\n",
       " 'progress': 20.0,\n",
       " 'query_wk': 17,\n",
       " 'stage': 'PCT EMERGED',\n",
       " 'state': 'IL',\n",
       " 'year': 2017}"
      ]
     },
     "execution_count": 12,
     "metadata": {},
     "output_type": "execute_result"
    }
   ],
   "source": [
    "get_crop_progress_5yr_comp(state = 'IL', year = 2017, week = 17, crop = 'CORN', stage = 'PCT EMERGED')"
   ]
  },
  {
   "cell_type": "code",
   "execution_count": 13,
   "metadata": {},
   "outputs": [
    {
     "data": {
      "text/html": [
       "<div>\n",
       "<style scoped>\n",
       "    .dataframe tbody tr th:only-of-type {\n",
       "        vertical-align: middle;\n",
       "    }\n",
       "\n",
       "    .dataframe tbody tr th {\n",
       "        vertical-align: top;\n",
       "    }\n",
       "\n",
       "    .dataframe thead th {\n",
       "        text-align: right;\n",
       "    }\n",
       "</style>\n",
       "<table border=\"1\" class=\"dataframe\">\n",
       "  <thead>\n",
       "    <tr style=\"text-align: right;\">\n",
       "      <th></th>\n",
       "      <th>index</th>\n",
       "      <th>begin_code</th>\n",
       "      <th>Value</th>\n",
       "    </tr>\n",
       "  </thead>\n",
       "  <tbody>\n",
       "    <tr>\n",
       "      <th>0</th>\n",
       "      <td>0</td>\n",
       "      <td>24</td>\n",
       "      <td>0</td>\n",
       "    </tr>\n",
       "    <tr>\n",
       "      <th>1</th>\n",
       "      <td>1</td>\n",
       "      <td>25</td>\n",
       "      <td>4</td>\n",
       "    </tr>\n",
       "    <tr>\n",
       "      <th>2</th>\n",
       "      <td>2</td>\n",
       "      <td>26</td>\n",
       "      <td>22</td>\n",
       "    </tr>\n",
       "    <tr>\n",
       "      <th>3</th>\n",
       "      <td>3</td>\n",
       "      <td>27</td>\n",
       "      <td>53</td>\n",
       "    </tr>\n",
       "    <tr>\n",
       "      <th>4</th>\n",
       "      <td>4</td>\n",
       "      <td>28</td>\n",
       "      <td>77</td>\n",
       "    </tr>\n",
       "    <tr>\n",
       "      <th>5</th>\n",
       "      <td>5</td>\n",
       "      <td>29</td>\n",
       "      <td>90</td>\n",
       "    </tr>\n",
       "    <tr>\n",
       "      <th>6</th>\n",
       "      <td>6</td>\n",
       "      <td>30</td>\n",
       "      <td>97</td>\n",
       "    </tr>\n",
       "    <tr>\n",
       "      <th>7</th>\n",
       "      <td>7</td>\n",
       "      <td>31</td>\n",
       "      <td>100</td>\n",
       "    </tr>\n",
       "  </tbody>\n",
       "</table>\n",
       "</div>"
      ],
      "text/plain": [
       "   index begin_code Value\n",
       "0      0         24     0\n",
       "1      1         25     4\n",
       "2      2         26    22\n",
       "3      3         27    53\n",
       "4      4         28    77\n",
       "5      5         29    90\n",
       "6      6         30    97\n",
       "7      7         31   100"
      ]
     },
     "execution_count": 13,
     "metadata": {},
     "output_type": "execute_result"
    }
   ],
   "source": [
    "get_crop_progress('IL', year = 2016, week = 25, stage = 'PCT SILKING', crop = 'CORN', series = True)"
   ]
  },
  {
   "cell_type": "code",
   "execution_count": 14,
   "metadata": {},
   "outputs": [
    {
     "data": {
      "text/html": [
       "<div>\n",
       "<style scoped>\n",
       "    .dataframe tbody tr th:only-of-type {\n",
       "        vertical-align: middle;\n",
       "    }\n",
       "\n",
       "    .dataframe tbody tr th {\n",
       "        vertical-align: top;\n",
       "    }\n",
       "\n",
       "    .dataframe thead th {\n",
       "        text-align: right;\n",
       "    }\n",
       "</style>\n",
       "<table border=\"1\" class=\"dataframe\">\n",
       "  <thead>\n",
       "    <tr style=\"text-align: right;\">\n",
       "      <th></th>\n",
       "      <th>index</th>\n",
       "      <th>begin_code</th>\n",
       "      <th>Value</th>\n",
       "    </tr>\n",
       "  </thead>\n",
       "  <tbody>\n",
       "    <tr>\n",
       "      <th>0</th>\n",
       "      <td>0</td>\n",
       "      <td>24</td>\n",
       "      <td>3</td>\n",
       "    </tr>\n",
       "    <tr>\n",
       "      <th>1</th>\n",
       "      <td>1</td>\n",
       "      <td>25</td>\n",
       "      <td>23</td>\n",
       "    </tr>\n",
       "    <tr>\n",
       "      <th>2</th>\n",
       "      <td>2</td>\n",
       "      <td>26</td>\n",
       "      <td>44</td>\n",
       "    </tr>\n",
       "    <tr>\n",
       "      <th>3</th>\n",
       "      <td>3</td>\n",
       "      <td>27</td>\n",
       "      <td>64</td>\n",
       "    </tr>\n",
       "    <tr>\n",
       "      <th>4</th>\n",
       "      <td>4</td>\n",
       "      <td>28</td>\n",
       "      <td>79</td>\n",
       "    </tr>\n",
       "    <tr>\n",
       "      <th>5</th>\n",
       "      <td>5</td>\n",
       "      <td>29</td>\n",
       "      <td>88</td>\n",
       "    </tr>\n",
       "    <tr>\n",
       "      <th>6</th>\n",
       "      <td>6</td>\n",
       "      <td>30</td>\n",
       "      <td>92</td>\n",
       "    </tr>\n",
       "    <tr>\n",
       "      <th>7</th>\n",
       "      <td>7</td>\n",
       "      <td>31</td>\n",
       "      <td>95</td>\n",
       "    </tr>\n",
       "    <tr>\n",
       "      <th>8</th>\n",
       "      <td>8</td>\n",
       "      <td>32</td>\n",
       "      <td>100</td>\n",
       "    </tr>\n",
       "  </tbody>\n",
       "</table>\n",
       "</div>"
      ],
      "text/plain": [
       "   index begin_code Value\n",
       "0      0         24     3\n",
       "1      1         25    23\n",
       "2      2         26    44\n",
       "3      3         27    64\n",
       "4      4         28    79\n",
       "5      5         29    88\n",
       "6      6         30    92\n",
       "7      7         31    95\n",
       "8      8         32   100"
      ]
     },
     "execution_count": 14,
     "metadata": {},
     "output_type": "execute_result"
    }
   ],
   "source": [
    "get_crop_progress('IL', year = 2018, week = 30, stage = 'PCT BLOOMING', crop = 'SOYBEANS', series = True)"
   ]
  },
  {
   "cell_type": "markdown",
   "metadata": {},
   "source": [
    "# New Mapping Functions\n",
    "\n",
    "Will need to download a shapefile (polygons) for US state boundaries"
   ]
  },
  {
   "cell_type": "code",
   "execution_count": 35,
   "metadata": {
    "collapsed": true
   },
   "outputs": [],
   "source": [
    "def plotmap(prog_dict, dev_dict, normmin = -2, normmax = 2, ticks=[-2,-1,0,1,2], \n",
    "            cmap = ListedColormap(sns.color_palette('Greens_r', 6) + sns.color_palette('YlOrRd', 7)), \n",
    "           label = 'Weeks ahead (neg) or behind (pos) 5 yr mean', outfn = ''):\n",
    "    \n",
    "    '''\n",
    "    This function plots the choropleth map of the data obtained from NASS (differences from 5-yr mean)\n",
    "    \n",
    "    prog_dict is what will be printed as text in each state. This dictionary should contain \n",
    "    the percent progress in the given stage of that state.\n",
    "    \n",
    "    dev_dict is what will be printed in [] as text in each state, and the basis of the choropleth\n",
    "    map colors\n",
    "    \n",
    "    The default values are those to be used when plotting 'delta weeks', or the number of weeks earlier\n",
    "    or behind the 5-yr mean the current percent progress for given stage is. The default values are:\n",
    "    \n",
    "    normmin = -2\n",
    "    normmax = 2\n",
    "    ticks = [-2, -1, 0, 1, 2]\n",
    "    cmap = ListedColormap(sns.color_palette('Greens_r', 6) + sns.color_palette('YlOrRd', 7))\n",
    "    label = 'Weeks ahead (neg) or behind (pos) 5-year mean'\n",
    "    \n",
    "    Dictionaries where the values are the progress differences as a percentage ('prog_diff_pc') can also\n",
    "    be plotted with the same command, simply by changing the input dictionary. In order for teh choropleth \n",
    "    to show up correctly, the other arguments should also be changed:\n",
    "    \n",
    "    normmin = -20\n",
    "    normmax = 20\n",
    "    ticks = [-20, -10, 0, 10, 20]\n",
    "    cmap = ListedColormap(sns.color_palette('YlOrRd_r', 7) + sns.color_palette('Greens', 6)),\n",
    "    label = 'Percent behind (neg) or ahead (pos) 5-year mean'\n",
    "    \n",
    "    '''\n",
    "    \n",
    "    # Set up the map\n",
    "    colvals = dict1.values()\n",
    "    cmap = cmap\n",
    "    norm = plt.Normalize(normmin, normmax)\n",
    "    \n",
    "    fig = plt.figure(figsize=(8,8))\n",
    "    map = Basemap(projection = 'lcc', resolution = 'l', \\\n",
    "                 lat_1 = 33, lat_2 = 45, lon_0 = -95,\\\n",
    "                 llcrnrlon = -105, llcrnrlat = 22, urcrnrlon = -64.5, urcrnrlat = 49)\n",
    "    \n",
    "    map.readshapefile('/home/theo/Data/cb_2017_us_state_20m_epsg4326/cb_2017_us_state_20m_epsg4326', \\\n",
    "                      name = 'states', drawbounds = True)\n",
    "    \n",
    "    # Assign colors to the states (from dict) to be plotted with choropleth (those that got data above)\n",
    "    patches = []\n",
    "    \n",
    "    for info, shape in zip(map.states_info, map.states):\n",
    "        if info['STUSPS'] in dev_dict.keys():\n",
    "            color = cmap(norm(dev_dict[info['STUSPS']]))\n",
    "            patches.append( Polygon(np.array(shape), True, color = color))\n",
    "            \n",
    "    ax = fig.add_subplot(111)\n",
    "    pc = PatchCollection(patches, match_original = True, edgecolor = 'k', linewidth = 1., zorder=2)\n",
    "    ax.add_collection(pc)\n",
    "    sm = plt.cm.ScalarMappable(cmap = cmap, norm = norm)\n",
    "    sm.set_array(colvals)\n",
    "    cb = map.colorbar(sm, location = 'bottom', size= '4%', pad = '1%', ticks = ticks)\n",
    "    cb.set_label(label)\n",
    "        \n",
    "    # Add text - use the progress dict (prog_dict and dev_dict here)\n",
    "    \n",
    "    for state in dev_dict.keys():\n",
    "        x,y = map(centroids[state]['coordinates'][0], centroids[state]['coordinates'][1])\n",
    "        plt.text(x,y, str(dev_dict[state]) + '\\n [' + str(prog_dict[state]) + '[', fontsize = 8, ha = 'center', va = 'center')\n",
    "        \n",
    "    if outfn == '':\n",
    "        plt.show()\n",
    "    else:\n",
    "        plt.savefig(outfn)\n",
    "        plt.show()"
   ]
  },
  {
   "cell_type": "markdown",
   "metadata": {},
   "source": [
    "# Coordinates for Labels"
   ]
  },
  {
   "cell_type": "code",
   "execution_count": 17,
   "metadata": {},
   "outputs": [],
   "source": [
    "# Create centroids and dictionary with all state centroids\n",
    "\n",
    "import fiona\n",
    "from shapely.geometry import shape, mapping\n",
    "\n",
    "centroids = {}\n",
    "\n",
    "with fiona.open('/home/theo/Data/cb_2017_us_state_20m/cb_2017_us_state_20m.shp') as input:\n",
    "    for elem in input:\n",
    "        # GeoJSON to shapely geometry\n",
    "        geom = shape(elem['geometry'])\n",
    "        # shapely centroid to GeoJSON\n",
    "        centroids[elem['properties']['STUSPS']] = mapping(geom.centroid)\n"
   ]
  },
  {
   "cell_type": "code",
   "execution_count": 18,
   "metadata": {
    "collapsed": true
   },
   "outputs": [],
   "source": [
    "# fix coordinates for MI and LA\n",
    "centroids['MI']['coordinates'] = ( -84.851, 43.255)\n",
    "centroids['LA']['coordinates'] = (-92.536, 31.527)"
   ]
  },
  {
   "cell_type": "markdown",
   "metadata": {},
   "source": [
    "# Maps for Corn Progress"
   ]
  },
  {
   "cell_type": "code",
   "execution_count": 19,
   "metadata": {},
   "outputs": [
    {
     "data": {
      "text/plain": [
       "34"
      ]
     },
     "execution_count": 19,
     "metadata": {},
     "output_type": "execute_result"
    }
   ],
   "source": [
    "# get current week of the year\n",
    "datetime.date(2018,8,23).isocalendar()[1]"
   ]
  },
  {
   "cell_type": "code",
   "execution_count": 20,
   "metadata": {},
   "outputs": [
    {
     "name": "stdout",
     "output_type": "stream",
     "text": [
      "NASS ERROR FOR AL\n",
      "NASS ERROR FOR LA\n",
      "NASS ERROR FOR GA\n",
      "NASS ERROR FOR SC\n",
      "NASS ERROR FOR MD\n",
      "NASS ERROR FOR WV\n",
      "['AL', 'LA', 'GA', 'SC', 'MD', 'WV']\n"
     ]
    }
   ],
   "source": [
    "states = ['CO', 'IL', 'IN', 'IA', 'KS', 'KY', 'MI', 'MN',\\\n",
    "         'MO', 'NE', 'NC', 'ND', 'OH', 'PA', 'SD', 'TN', 'WI', \\\n",
    "         'TX', 'AL', 'MS', 'AR', 'LA', 'GA', 'SC', 'VA', 'OK', 'MD', 'WV']\n",
    "\n",
    "year = 2018\n",
    "week = 30\n",
    "stage = 'PCT DOUGH'\n",
    "\n",
    "nass_data = []\n",
    "error_states = []\n",
    "\n",
    "# COLLECT DICTIONARIES INTO LIST\n",
    "for state in states:\n",
    "    try:\n",
    "        # make API call\n",
    "        state_5yrcomp = get_crop_progress_5yr_comp(state, year, week, stage, crop = 'CORN')\n",
    "        nass_data.append(state_5yrcomp)\n",
    "    except:\n",
    "        print (\"NASS ERROR FOR %s\"  %(str(state)))\n",
    "        error_states.append(state)\n",
    "        pass\n",
    "    \n",
    "# Convert to dataframe\n",
    "nass_df = pd.DataFrame(nass_data)\n",
    "\n",
    "print (error_states)\n",
    "\n",
    "# remove error states from states\n",
    "states = [x for x in states if x not in error_states]"
   ]
  },
  {
   "cell_type": "code",
   "execution_count": 21,
   "metadata": {
    "collapsed": true
   },
   "outputs": [],
   "source": [
    "# Make dictionary for states with chosen parameter: 'delta_wks' or 'prog_diff_pc'\n",
    "\n",
    "dict1 = {}\n",
    "keys = states\n",
    "\n",
    "for state in states:\n",
    "    prog_cur = nass_df['progress'][nass_df['state'] == state].values[0]\n",
    "    if prog_cur > 0:\n",
    "        try:\n",
    "            dict1[state] = nass_df['delta_wks'][nass_df['state'] == state].values[0]\n",
    "        except:\n",
    "            dict1[state] = np.nan\n",
    "    else:\n",
    "        dict1[state] = np.nan\n",
    "\n",
    "#remove states with NA\n",
    "from math import isnan\n",
    "dict1 = {k: dict1[k] for k in dict1 if not isnan(dict1[k])}\n",
    "# round values\n",
    "dict1 = {k: round(dict1[k],2) for k in dict1}"
   ]
  },
  {
   "cell_type": "code",
   "execution_count": 22,
   "metadata": {
    "collapsed": true
   },
   "outputs": [],
   "source": [
    "# Make the progress dict\n",
    "progdict = {}\n",
    "\n",
    "for state in states:\n",
    "    prog_cur = nass_df['progress'][nass_df['state'] == state].values[0]\n",
    "    if prog_cur > 0:\n",
    "        try:\n",
    "            progdict[state] = nass_df['progress'][nass_df['state'] == state].values[0]\n",
    "        except:\n",
    "            progdict[state] = np.nan\n",
    "    else:\n",
    "        progdict[state] = np.nan\n",
    "\n",
    "#remove states with NA\n",
    "from math import isnan\n",
    "progdict = {k: progdict[k] for k in progdict if not isnan(progdict[k])}\n"
   ]
  },
  {
   "cell_type": "code",
   "execution_count": 36,
   "metadata": {},
   "outputs": [
    {
     "name": "stderr",
     "output_type": "stream",
     "text": [
      "/home/theo/anaconda3/envs/ipykernel_py2/lib/python2.7/site-packages/matplotlib/cbook/deprecation.py:107: MatplotlibDeprecationWarning: Adding an axes using the same arguments as a previous axes currently reuses the earlier instance.  In a future version, a new instance will always be created and returned.  Meanwhile, this warning can be suppressed, and the future behavior ensured, by passing a unique label to each axes instance.\n",
      "  warnings.warn(message, mplDeprecation, stacklevel=1)\n"
     ]
    },
    {
     "data": {
      "image/png": "[encoded data removed]",
      "text/plain": [
       "<Figure size 576x576 with 2 Axes>"
      ]
     },
     "metadata": {},
     "output_type": "display_data"
    }
   ],
   "source": [
    "plotmap(progdict, dict1, normmin = -2, normmax = 2, ticks = [-2,-1,0,1,2],\\\n",
    "       outfn = '')"
   ]
  }
 ],
 "metadata": {
  "kernelspec": {
   "display_name": "Python 2",
   "language": "python",
   "name": "python2"
  },
  "language_info": {
   "codemirror_mode": {
    "name": "ipython",
    "version": 2
   },
   "file_extension": ".py",
   "mimetype": "text/x-python",
   "name": "python",
   "nbconvert_exporter": "python",
   "pygments_lexer": "ipython2",
   "version": "2.7.15"
  }
 },
 "nbformat": 4,
 "nbformat_minor": 2
}
